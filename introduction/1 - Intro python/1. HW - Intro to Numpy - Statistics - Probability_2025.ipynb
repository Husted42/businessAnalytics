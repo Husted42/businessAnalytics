{
 "cells": [
  {
   "cell_type": "markdown",
   "metadata": {},
   "source": [
    "## Part 1: Algebra in Numpy"
   ]
  },
  {
   "cell_type": "markdown",
   "metadata": {},
   "source": [
    "In order to continue, you need to get comfortable with vector and matrix manipulation in Numpy, a very handy Python package."
   ]
  },
  {
   "cell_type": "markdown",
   "metadata": {},
   "source": [
    "### NumPy"
   ]
  },
  {
   "cell_type": "markdown",
   "metadata": {},
   "source": [
    "#### Why NumPy???"
   ]
  },
  {
   "cell_type": "markdown",
   "metadata": {},
   "source": [
    "* **Memory efficiency:** NumPy's arrays are more compact than Python lists. For example, where a Python list would take at least 20 MB, a NumPy 3D array with single-precision floats in the cells would fit in 4 MB. Access in reading and writing items is also faster with NumPy.\n",
    "\n",
    "* **Conveniency:** You get a lot of vector and matrix operations for free, which sometimes allow one to avoid unnecessary work. And they are also efficiently implemented.\n",
    "\n",
    "* **Speed:** Here's a test on doing a sum over a list and a NumPy array, showing that the sum on the NumPy array is 10x faster."
   ]
  },
  {
   "cell_type": "code",
   "execution_count": 2,
   "metadata": {},
   "outputs": [
    {
     "name": "stdout",
     "output_type": "stream",
     "text": [
      "numpy: 1.515e-06\n",
      "list:  8.048e-05\n"
     ]
    }
   ],
   "source": [
    "from numpy import arange\n",
    "from timeit import Timer\n",
    "\n",
    "Nelements = 10000\n",
    "Ntimeits = 10000\n",
    "\n",
    "x = arange(Nelements)     #the \"new\" arange function in Python, creates an array with Nelements\n",
    "y = range(Nelements)      #the \"old\" one you know already, creates a list with Nelements\n",
    "\n",
    "t_numpy = Timer(\"x.sum()\", \"from __main__ import x\")    #a simple operation on the array created\n",
    "t_list = Timer(\"sum(y)\", \"from __main__ import y\")      #a similar operation but on a list\n",
    "print (\"numpy: %.3e\" % (t_numpy.timeit(Ntimeits)/Ntimeits,))\n",
    "print (\"list:  %.3e\" % (t_list.timeit(Ntimeits)/Ntimeits,))"
   ]
  },
  {
   "cell_type": "markdown",
   "metadata": {},
   "source": [
    "### The Basics"
   ]
  },
  {
   "cell_type": "markdown",
   "metadata": {},
   "source": [
    "NumPy’s main object is the homogeneous multidimensional array. It is a table of elements (usually numbers), all of the same type, indexed by a tuple of positive integers."
   ]
  },
  {
   "cell_type": "code",
   "execution_count": 3,
   "metadata": {},
   "outputs": [],
   "source": [
    "import numpy as np\n",
    "\n",
    "### Creating arrays\n",
    "a = np.array([1,2,3])\n",
    "b = np.array([(1.5,2,3), (4,5,6)], dtype=float)"
   ]
  },
  {
   "cell_type": "markdown",
   "metadata": {},
   "source": [
    "#### Initial Placeholders \n",
    "(or ways to quickly create a vector/array with ones or zeros...)"
   ]
  },
  {
   "cell_type": "code",
   "execution_count": 4,
   "metadata": {},
   "outputs": [
    {
     "data": {
      "text/plain": [
       "array([[0., 0., 0., 0.],\n",
       "       [0., 0., 0., 0.],\n",
       "       [0., 0., 0., 0.]])"
      ]
     },
     "execution_count": 4,
     "metadata": {},
     "output_type": "execute_result"
    }
   ],
   "source": [
    "np.zeros([3,4])                    # Creates an 3x4 array of zeros"
   ]
  },
  {
   "cell_type": "code",
   "execution_count": 5,
   "metadata": {},
   "outputs": [
    {
     "data": {
      "text/plain": [
       "array([[[1, 1, 1, 1],\n",
       "        [1, 1, 1, 1],\n",
       "        [1, 1, 1, 1]],\n",
       "\n",
       "       [[1, 1, 1, 1],\n",
       "        [1, 1, 1, 1],\n",
       "        [1, 1, 1, 1]]], dtype=int16)"
      ]
     },
     "execution_count": 5,
     "metadata": {},
     "output_type": "execute_result"
    }
   ],
   "source": [
    "np.ones((2,3,4), dtype=np.int16)   # Creates a array of 2x3x4 ones"
   ]
  },
  {
   "cell_type": "code",
   "execution_count": 6,
   "metadata": {},
   "outputs": [
    {
     "data": {
      "text/plain": [
       "array([10, 15, 20, 25])"
      ]
     },
     "execution_count": 6,
     "metadata": {},
     "output_type": "execute_result"
    }
   ],
   "source": [
    "np.arange(10,30,5)                  # Creates an array of evenly spaced values (step value)"
   ]
  },
  {
   "cell_type": "code",
   "execution_count": 7,
   "metadata": {},
   "outputs": [
    {
     "data": {
      "text/plain": [
       "array([0.  , 0.25, 0.5 , 0.75, 1.  , 1.25, 1.5 , 1.75, 2.  ])"
      ]
     },
     "execution_count": 7,
     "metadata": {},
     "output_type": "execute_result"
    }
   ],
   "source": [
    "np.linspace(0,2,9)                 # Creates an array of evenly spaced values (number of samples)"
   ]
  },
  {
   "cell_type": "code",
   "execution_count": 8,
   "metadata": {},
   "outputs": [
    {
     "data": {
      "text/plain": [
       "array([[7, 7],\n",
       "       [7, 7]])"
      ]
     },
     "execution_count": 8,
     "metadata": {},
     "output_type": "execute_result"
    }
   ],
   "source": [
    "np.full((2,2),7)                    # Creates an array of constants"
   ]
  },
  {
   "cell_type": "code",
   "execution_count": 9,
   "metadata": {},
   "outputs": [
    {
     "data": {
      "text/plain": [
       "array([[1., 0.],\n",
       "       [0., 1.]])"
      ]
     },
     "execution_count": 9,
     "metadata": {},
     "output_type": "execute_result"
    }
   ],
   "source": [
    "np.eye(2)                           # Creates a 2x2 identity matrix"
   ]
  },
  {
   "cell_type": "code",
   "execution_count": 10,
   "metadata": {},
   "outputs": [
    {
     "data": {
      "text/plain": [
       "array([[0.80777617, 0.83474297],\n",
       "       [0.0622462 , 0.88844809]])"
      ]
     },
     "execution_count": 10,
     "metadata": {},
     "output_type": "execute_result"
    }
   ],
   "source": [
    "np.random.random((2,2))             # Creates an array of random values"
   ]
  },
  {
   "cell_type": "code",
   "execution_count": 11,
   "metadata": {},
   "outputs": [
    {
     "data": {
      "image/png": "[encoded data removed]",
      "text/plain": [
       "<Figure size 640x480 with 1 Axes>"
      ]
     },
     "metadata": {},
     "output_type": "display_data"
    }
   ],
   "source": [
    "import matplotlib.pyplot as plt\n",
    "\n",
    "# Build a vector of 10000 samples from a normal distribution with variance 0.5^2 and mean 2\n",
    "mu, sigma = 2, 0.5   \n",
    "\n",
    "v = np.random.normal(mu,sigma,10000)   #get 100000 samples from a normal\n",
    "# Plot a histogram with 50 bins\n",
    "plt.hist(v, bins=50)       # matplotlib version (plot)\n",
    "plt.show()"
   ]
  },
  {
   "cell_type": "code",
   "execution_count": 12,
   "metadata": {},
   "outputs": [
    {
     "data": {
      "text/plain": [
       "array([[0.46347222, 0.33722222],\n",
       "       [0.46347222, 4.03322222],\n",
       "       [5.42347222, 0.33722222]])"
      ]
     },
     "execution_count": 12,
     "metadata": {},
     "output_type": "execute_result"
    }
   ],
   "source": [
    "np.empty((3,2))                     # Creates an empty array"
   ]
  },
  {
   "cell_type": "markdown",
   "metadata": {},
   "source": [
    "### Saving and loading text files"
   ]
  },
  {
   "cell_type": "code",
   "execution_count": 13,
   "metadata": {},
   "outputs": [
    {
     "name": "stdout",
     "output_type": "stream",
     "text": [
      "[1. 2. 3.]\n"
     ]
    }
   ],
   "source": [
    "a = np.array([1,2,3])\n",
    "np.savetxt(\"myarray.txt\", a, delimiter=\" \")\n",
    "loaded_a=np.loadtxt(\"myarray.txt\")  #reads directly to an np.array\n",
    "print(loaded_a)"
   ]
  },
  {
   "cell_type": "code",
   "execution_count": 14,
   "metadata": {},
   "outputs": [
    {
     "name": "stdout",
     "output_type": "stream",
     "text": [
      "1.000000000000000000e+00\n",
      "\n",
      "2.000000000000000000e+00\n",
      "\n",
      "3.000000000000000000e+00\n",
      "\n"
     ]
    }
   ],
   "source": [
    "f=open(\"myarray.txt\") #read it as if it was a normal text file\n",
    "for line in f.readlines():\n",
    "    print(line)"
   ]
  },
  {
   "cell_type": "markdown",
   "metadata": {},
   "source": [
    "### Indexing, Slicing and Iterating"
   ]
  },
  {
   "cell_type": "code",
   "execution_count": 15,
   "metadata": {},
   "outputs": [
    {
     "name": "stdout",
     "output_type": "stream",
     "text": [
      "[  0   1   8  27  64 125 216 343 512 729]\n"
     ]
    }
   ],
   "source": [
    "a = np.arange(10)**3   #power operator\n",
    "print(a)"
   ]
  },
  {
   "cell_type": "code",
   "execution_count": 16,
   "metadata": {},
   "outputs": [
    {
     "name": "stdout",
     "output_type": "stream",
     "text": [
      "8\n",
      "[ 8 27 64]\n",
      "[729 512 343 216 125  64  27   8   1   0]\n",
      "0.0\n",
      "1.0\n",
      "2.0\n",
      "3.0\n",
      "3.9999999999999996\n",
      "4.999999999999999\n",
      "5.999999999999999\n",
      "6.999999999999999\n",
      "7.999999999999999\n",
      "8.999999999999998\n"
     ]
    }
   ],
   "source": [
    "print(a[2])\n",
    "print(a[2:5])\n",
    "print(a[ : :-1])      # reversed a\n",
    "\n",
    "for i in a:\n",
    "    print(i**(1/3.))"
   ]
  },
  {
   "cell_type": "code",
   "execution_count": 17,
   "metadata": {},
   "outputs": [
    {
     "name": "stdout",
     "output_type": "stream",
     "text": [
      "[[1.5 2.  3. ]\n",
      " [4.  5.  6. ]]\n",
      "[[1.5 2.  3. ]]\n",
      "[2. 5.]\n"
     ]
    }
   ],
   "source": [
    "# Two dimensional arrays\n",
    "print(b)\n",
    "print(b[:1])       # prints the first row\n",
    "print(b[0:2,1])    # prints the second column"
   ]
  },
  {
   "cell_type": "code",
   "execution_count": 18,
   "metadata": {},
   "outputs": [
    {
     "data": {
      "text/plain": [
       "array([0, 1])"
      ]
     },
     "execution_count": 18,
     "metadata": {},
     "output_type": "execute_result"
    }
   ],
   "source": [
    "a[a<2]            # Selection of elements from \"a\" less than 2"
   ]
  },
  {
   "cell_type": "markdown",
   "metadata": {},
   "source": [
    "### Array Manipulation"
   ]
  },
  {
   "cell_type": "code",
   "execution_count": 19,
   "metadata": {},
   "outputs": [
    {
     "name": "stdout",
     "output_type": "stream",
     "text": [
      "[[1.5 2.  3. ]\n",
      " [4.  5.  6. ]]\n",
      "[[1.5 4. ]\n",
      " [2.  5. ]\n",
      " [3.  6. ]]\n"
     ]
    }
   ],
   "source": [
    "print(b)\n",
    "print(b.T) # Transposing Array (you could also do np.transpose(b))"
   ]
  },
  {
   "cell_type": "code",
   "execution_count": 20,
   "metadata": {},
   "outputs": [
    {
     "name": "stdout",
     "output_type": "stream",
     "text": [
      "[1.5 2.  3.  4.  5.  6. ]\n",
      "[[1.5 2.  3. ]\n",
      " [4.  5.  6. ]]\n"
     ]
    }
   ],
   "source": [
    "# Changing array Shape\n",
    "b=b.ravel()               # b becomes flatenned (all elements in a single row)\n",
    "print(b)\n",
    "b=b.reshape(2,3)     #let's get it back to the initial 2x3 form\n",
    "print(b)           #and here it is"
   ]
  },
  {
   "cell_type": "code",
   "execution_count": 21,
   "metadata": {},
   "outputs": [
    {
     "name": "stdout",
     "output_type": "stream",
     "text": [
      "[  0.    1.    8.   27.   64.  125.  216.  343.  512.  729.    1.5   2.\n",
      "   3.    4.    5.    6. ]\n"
     ]
    }
   ],
   "source": [
    "# Adding/Removing elements\n",
    "c=np.append(a,b)\n",
    "print(c)"
   ]
  },
  {
   "cell_type": "code",
   "execution_count": 22,
   "metadata": {},
   "outputs": [
    {
     "data": {
      "text/plain": [
       "array([  0. ,   1. ,   8. ,   5. ,  27. ,  64. , 125. , 216. , 343. ,\n",
       "       512. , 729. ,   1.5,   2. ,   3. ,   4. ,   5. ,   6. ])"
      ]
     },
     "execution_count": 22,
     "metadata": {},
     "output_type": "execute_result"
    }
   ],
   "source": [
    "np.insert(c, 3, 5) #insert number 5 in position 3 of array c"
   ]
  },
  {
   "cell_type": "code",
   "execution_count": 23,
   "metadata": {},
   "outputs": [
    {
     "name": "stdout",
     "output_type": "stream",
     "text": [
      "[  0.    1.    8.   27.   64.  125.  216.  343.  512.  729.    1.5   2.\n",
      "   3.    4.    5.    6. ]\n",
      "[  0.    1.    8.   64.  125.  216.  343.  512.  729.    1.5   2.    3.\n",
      "   4.    5.    6. ]\n"
     ]
    }
   ],
   "source": [
    "print(c) #before\n",
    "c=np.delete(c, 3) #removes the fourth element in array\n",
    "print(c) #after"
   ]
  },
  {
   "cell_type": "code",
   "execution_count": 24,
   "metadata": {},
   "outputs": [
    {
     "data": {
      "text/plain": [
       "array([[1.5, 2. , 3. ],\n",
       "       [4. , 5. , 6. ],\n",
       "       [1.5, 2. , 3. ],\n",
       "       [4. , 5. , 6. ]])"
      ]
     },
     "execution_count": 24,
     "metadata": {},
     "output_type": "execute_result"
    }
   ],
   "source": [
    "# Combining arrays\n",
    "np.concatenate((b,b), axis=0)"
   ]
  },
  {
   "cell_type": "code",
   "execution_count": 25,
   "metadata": {},
   "outputs": [
    {
     "data": {
      "text/plain": [
       "array([[1.5, 2. , 3. ],\n",
       "       [4. , 5. , 6. ],\n",
       "       [1.5, 2. , 3. ],\n",
       "       [4. , 5. , 6. ]])"
      ]
     },
     "execution_count": 25,
     "metadata": {},
     "output_type": "execute_result"
    }
   ],
   "source": [
    "np.vstack((b,b))   #Try hstack()!"
   ]
  },
  {
   "cell_type": "markdown",
   "metadata": {},
   "source": [
    "## Part 2: Statistics (DSFS Chapter 5)\n",
    "\n",
    "> _Reading_. Let's get cracking. Pick up DSFS and\n",
    "> \n",
    "> * Read chapter 5\\.\n",
    "> \n",
    "\n",
    "The lessons here will be important throughout the course, so this is a good place for us to start the exercises. We start with some simple questions about the text. **Don't forget that you should be answering all exercises in an IPython notebook.**\n",
    "\n",
    "> _Exercises_: Chapter 5 (just some questions from the text)\n",
    ">\n",
    "> * _Mean and median_: Explain the difference between the mean and the median in your own words. In what kinds of dataset are the mean and median similar? Can you think of a dataset where the mean and median would be very different?\n",
    "> * _Variance_: Explain the variance in your own words.\n",
    "> * _A paradox_: What is Simpson's Paradox. Provide your own example of a dataset where this issue occurs.\n",
    "> * _Correlation and causation_: Explain what's funny about [**this comic**](https://xkcd.com/552/).\n",
    "\n",
    "In my mind, statistics and visualization are intimately connected. If we plot data, we can usually learn a lot about the underlying statistics - sometimes things that are difficult to discern based on even quite sophisticated measures. Today's first Exercise illustrates this point.\n",
    "\n",
    "> _Exercise_: Chapter 5 (beyond the book)\n",
    "> \n",
    "> Start by downloading these four datasets: [Data 1](https://raw.githubusercontent.com/suneman/socialdataanalysis2017/master/files/data1.tsv), [Data 2](https://raw.githubusercontent.com/suneman/socialdataanalysis2017/master/files/data2.tsv), [Data 3](https://raw.githubusercontent.com/suneman/socialdataanalysis2017/master/files/data3.tsv), and [Data 4](https://raw.githubusercontent.com/suneman/socialdataanalysis2017/master/files/data4.tsv). The format is `.tsv`, which stands for _tab separated values_. \n",
    "> Each file has two columns (separated using the tab character). The first column is $x$-values, and the second column is $y$-values.  \n",
    ">\n",
    "> It's ok to just download these files to disk by right-clicking on each one, but if you use Python and _urllib_ or _urllib2_ to get them, I'll really be impressed. If you don't know how to do that, I recommend opening up Google and typing \"download file using Python\" or something like that. When interpreting the search results remember that _stackoverflow_ is your friend.\n",
    "> \n",
    "> * Using the `numpy` function `mean`, calculate the mean of both $x$-values and $y$-values for each dataset. \n",
    "> * Use python string formatting to print precisely two decimal places of these results to the output cell. Check out [this _stackoverflow_ page](http://stackoverflow.com/questions/8885663/how-to-format-a-floating-number-to-fixed-width-in-python) for help with the string formatting. \n",
    "> * Now calculate the variance for all of the various sets of $x$- and $y$-values (to three decimal places).\n",
    "> * Use `numpy` to calculate the [Pearson correlation](https://en.wikipedia.org/wiki/Pearson_product-moment_correlation_coefficient) between $x$- and $y$-values for all four data sets (also to three decimal places).\n",
    "> * The next step is use _linear regression_ to fit a straight line $f(x) = a x + b$ through each dataset and report $a$ and $b$ (to two decimal places). An easy way to fit a straight line in Python is using `scipy`'s `linregress`. It works like this\n",
    "> ```\n",
    "> from scipy import stats\n",
    "> slope, intercept, r_value, p_value, std_err = stats.linregress(x,y)\n",
    ">```\n",
    "> * Finally, it's time to plot the four datasets using `matplotlib.pyplot`. Use a two-by-two [`subplot`](http://matplotlib.org/examples/pylab_examples/subplot_demo.html) to put all of the plots nicely in a grid and use the same $x$ and $y$ range for all four plots. And include the linear fit in all four plots. (To get a sense of what I think the plot should look like, you can take a look at my version [here](https://raw.githubusercontent.com/suneman/socialdataanalysis2017/master/files/anscombe.png).)\n",
    "> * Explain - in your own words - what you think my point with this exercise is.\n",
    "\n",
    "\n",
    "Get more insight in the ideas behind this exercise by reading [here](https://en.wikipedia.org/wiki/Anscombe%27s_quartet)."
   ]
  },
  {
   "cell_type": "code",
   "execution_count": 26,
   "metadata": {},
   "outputs": [
    {
     "name": "stdout",
     "output_type": "stream",
     "text": [
      "[9.         7.50090909]\n",
      "[9.         7.50090909]\n",
      "[9.  7.5]\n",
      "[9.         7.50090909]\n",
      "3.1622776601683795 1.937024215108669\n",
      "3.16 & 1.94\n",
      "[10.          3.75206281]\n",
      "[10.          3.75239008]\n",
      "[10.          3.74783636]\n",
      "[10.          3.74840826]\n",
      "\n",
      "\n",
      " Pearson correlation coefficient\n",
      "[[1.         0.81642052]\n",
      " [0.81642052 1.        ]]\n",
      "[[1.         0.81623651]\n",
      " [0.81623651 1.        ]]\n",
      "[[1.         0.81628674]\n",
      " [0.81628674 1.        ]]\n",
      "[[1.         0.81652144]\n",
      " [0.81652144 1.        ]]\n",
      "\n",
      "\n",
      " Linear regression\n",
      "y = 0.500091x + 3.000091\n",
      "R^2 = 0.666542\n"
     ]
    },
    {
     "data": {
      "image/png": "[encoded data removed]",
      "text/plain": [
       "<Figure size 640x480 with 1 Axes>"
      ]
     },
     "metadata": {},
     "output_type": "display_data"
    }
   ],
   "source": [
    "# Load example data\n",
    "data1 = np.loadtxt('data1.tsv', delimiter='\\t')  #tab-separated values\n",
    "data2 = np.loadtxt('data2.tsv', delimiter='\\t')  #tab-separated values\n",
    "data3 = np.loadtxt('data3.tsv', delimiter='\\t')  #tab-separated values\n",
    "data4 = np.loadtxt('data4.tsv', delimiter='\\t')  #tab-separated values\n",
    "\n",
    "\n",
    "\n",
    "print(data1.mean(axis=0))  #mean of each column\n",
    "print(data2.mean(axis=0))  #mean of each row\n",
    "print(data3.mean(axis=0))  #mean of each column\n",
    "print(data4.mean(axis=0))  #mean of each column\n",
    "\n",
    "# Python formatting\n",
    "x, y = data1.std(axis=0)\n",
    "print(x,y)\n",
    "print(\"{:1.2f} & {:1.2f}\".format(x, y))   #standard deviation of each column\n",
    "\n",
    "print(data1.var(axis=0))  #mean of each column\n",
    "print(data2.var(axis=0))  #mean of each row\n",
    "print(data3.var(axis=0))  #mean of each column\n",
    "print(data4.var(axis=0))  #mean of each column\n",
    "\n",
    "\n",
    "# Pearson correlation coefficient\n",
    "print(\"\\n\\n Pearson correlation coefficient\")\n",
    "x = data1[:,0]\n",
    "y = data1[:,1]\n",
    "R = np.corrcoef(x,y)\n",
    "print(R)  \n",
    "\n",
    "x = data2[:,0]\n",
    "y = data2[:,1]\n",
    "R = np.corrcoef(x,y)\n",
    "print(R)  \n",
    "\n",
    "x = data3[:,0]\n",
    "y = data3[:,1]\n",
    "R = np.corrcoef(x,y)\n",
    "print(R)  \n",
    "\n",
    "x = data4[:,0]\n",
    "y = data4[:,1]\n",
    "R = np.corrcoef(x,y)\n",
    "print(R)  \n",
    "\n",
    "import scipy.stats as stats\n",
    "\n",
    "# Linear regression\n",
    "print(\"\\n\\n Linear regression\")\n",
    "x = data1[:,0]\n",
    "y = data1[:,1]\n",
    "slope, intercept, r_value, p_value, std_err = stats.linregress(x,y)\n",
    "print(\"y = %fx + %f\" % (slope, intercept))\n",
    "print(\"R^2 = %f\" % (r_value**2))\n",
    "\n",
    "# Plot data and linear fit\n",
    "plt.scatter(x, y)\n",
    "plt.plot(x, intercept + slope*x, 'r', label='fitted line')\n",
    "plt.show()\n"
   ]
  },
  {
   "cell_type": "markdown",
   "metadata": {},
   "source": [
    "## Part 3: Probability  (DSFS Chapter 6)\n",
    "\n",
    "> _Reading_: You guessed it! Have a look at DSFS Chapter 6.\n",
    "\n",
    "Probability theory is another one of those topics that we'll glide past gently (since you probably remember everyting about if from another class), but we'll do a couple of fun ones just to\n",
    "\n",
    "> _Exercise_: Conditional probability and having children.\n",
    ">\n",
    "> There's a nice example in the book where Joel illustrates the conditional probablity of “both children are girls” conditional on the event “at least one of the children is a girl” versus the probability that \"both children are girls\" knowing \"the older sister is a girl\" using the little code-snippet reproduced below. "
   ]
  },
  {
   "cell_type": "code",
   "execution_count": null,
   "metadata": {},
   "outputs": [
    {
     "name": "stdout",
     "output_type": "stream",
     "text": [
      "P(both | older): 0.500709\n",
      "P(both | either): 0.331190\n"
     ]
    }
   ],
   "source": [
    "import random\n",
    "\n",
    "def random_kid():\n",
    "    return random.choice([\"boy\", \"girl\"])   #Uniform distribution, thus 50/50 of boy or girl...\n",
    "\n",
    "both_girls = 0\n",
    "older_girl = 0\n",
    "either_girl = 0\n",
    "\n",
    "random.seed(0)\n",
    "for _ in range(10000):      # Obtain a large sample (10000) \n",
    "    younger = random_kid()  # of 2 children families...\n",
    "    older = random_kid() \n",
    "    \n",
    "    if older == \"girl\":\n",
    "        older_girl += 1\n",
    "    if older == \"girl\" and younger == \"girl\":\n",
    "        both_girls += 1\n",
    "    if older == \"girl\" or younger == \"girl\":\n",
    "        either_girl += 1\n",
    "        \n",
    "        \n",
    "\n",
    "print(\"P(both | older): %f\"%(both_girls / older_girl)) # 0.514 ~ 1/2 \n",
    "print(\"P(both | either): %f\"%(both_girls / either_girl)) # 0.342 ~ 1/3"
   ]
  },
  {
   "cell_type": "markdown",
   "metadata": {},
   "source": [
    "> Let's imagine a new family with three children. Assuming that each child is equally likely to be a boy or a girl, and that the gender of each subsequent child is independent of the gender its older siblings. Use Python code to answer the following questions.\n",
    "> * What is the probability of three girls?\n",
    "> * What is the probability of two girls and one boy?\n",
    "> * What is the probability of one girl and two boys?\n",
    "> * What is the probability of three boys?\n",
    "> * What is the probability that all children are girls given that the oldest child is a girl?\n",
    "> * What is the probability that all children are girls given that one of the children is a girl?  \n",
    "> * Work out the expected answer using your math skills."
   ]
  },
  {
   "cell_type": "code",
   "execution_count": 31,
   "metadata": {},
   "outputs": [
    {
     "name": "stdout",
     "output_type": "stream",
     "text": [
      "P(3 girls) = 0.126200\n",
      "0.24552077180547352\n",
      "0.015625\n"
     ]
    }
   ],
   "source": [
    "three_girls = 0\n",
    "for _ in range(10000):       #Obtain a large sample (10000)  --- IGNORE ---\n",
    "    kid_1 = random_kid()\n",
    "    kid_2 = random_kid()\n",
    "    kid_3 = random_kid()\n",
    "\n",
    "    if kid_1 == kid_2 == kid_3 == 'girl':\n",
    "        three_girls += 1\n",
    "\n",
    "print(\"P(3 girls) = %f\" % (three_girls / 10000))\n",
    "\n",
    "# If we just loop the rest is trivial...\n",
    "first_girl = 0\n",
    "three_girls = 0\n",
    "for _ in range(10000):       #Obtain a large sample (10000)  --- IGNORE ---\n",
    "    kid_1 = random_kid()\n",
    "    kid_2 = random_kid()\n",
    "    kid_3 = random_kid()\n",
    "\n",
    "    if kid_1 == 'girl':\n",
    "        first_girl += 1\n",
    "    if kid_1 == kid_2 == kid_3 == 'girl':\n",
    "        three_girls += 1\n",
    "\n",
    "print(three_girls/first_girl)\n",
    "\n",
    "print((1/4) * (1/4) * (1/4))"
   ]
  },
  {
   "cell_type": "markdown",
   "metadata": {},
   "source": [
    "> _Exercise_: Central limit theorem \n",
    "\n",
    ">The central limit theorem is fun because we can get Gaussian distributions from probability distributions that are _not_ Gaussian. Let's explore that in the following exercise.\n",
    "\n",
    "> * Use Python's `random` module to simulate rolling a fair six-sided die 10 000 000 times.\n",
    "> * Plot the distribution of dice rolls using a bar-chart. _Hint_: Use `counter` (see p. 24) to bin the values, then go back to Chapter 3 for examples of how to plot bar-charts (or try Google $\\rightarrow$ _stackoverflow_).\n",
    "> * Describe the shape of the distribution.\n",
    "> * Now perform a new simulation. Roll a fair six-sided die 10 times and take the _average_. Do that 1 000 000 times.\n",
    "> * Plot the distribution of those average values. This time you can't use `counter` (since the averages are not integer values). \n",
    ">  * Instead use `numpy.histogram` to bin those number into 25 bins. \n",
    ">  * What does the `numpy.histogram` function return? Do the two arrays have the same length?\n",
    ">  * Then let's use `matplotlib.pyplot.bar` to plot the binned data. You will have to deal with the fact that the counts- and bin-arrays have different lengths. Explain how you deal with this problem and why.\n",
    "> * Describe the shape of _this_ distribution. Explain in your own words what happened to that flat distribution of die-rolls to suddenly make it Gaussian just by taking some averages.\n",
    "> * Calculate the mean $\\mu$ and standard deviation $\\sigma_{\\textrm{observed}}$ of the averaged values. Could you have predicted these values by reading DSFS pp. 78-80?"
   ]
  },
  {
   "cell_type": "markdown",
   "metadata": {},
   "source": [
    "### OPTIONAL: if you feel overwhelmed, do this section later\n",
    "\n",
    "## Part 4: Hypothesis and inference  (DSFS Chapter 7)\n",
    "\n",
    "> _Reading_: Take a look at DSFS Chapter 7. Maybe also just skim Chapter 8 to get a sense of what's going on.  \n",
    "\n",
    "There's a lot going on in Chapter 7, enough for an entire course really, but my guess is that you guys are already getting tired, so the job is just to read through and get a sense of what's going on. In particular, I recommend taking a close look at the cental example about testing the fairness of a coin. That example nicely captures the cental concepts.\n",
    "\n",
    "We'll return to the topic of inferencel later when we have an exercise that illustrates some of the concepts. For now, just a couple of questions to show that you've looked at the text.\n",
    "\n",
    "> _Exercises_: Did you read the text?\n",
    ">\n",
    "> * What's the null hypothesis when testing if a coin is fair?\n",
    "> * Explain in your own words what Joel means by _significance_ on p. 83.\n",
    "> * Explain in your own words what Joel means by _power_ on p. 83.\n",
    "> * Write down a short definition of $p$-value.\n",
    "> * Explain the problem with $p$-hacking."
   ]
  }
 ],
 "metadata": {
  "kernelspec": {
   "display_name": "base",
   "language": "python",
   "name": "python3"
  },
  "language_info": {
   "codemirror_mode": {
    "name": "ipython",
    "version": 3
   },
   "file_extension": ".py",
   "mimetype": "text/x-python",
   "name": "python",
   "nbconvert_exporter": "python",
   "pygments_lexer": "ipython3",
   "version": "3.12.7"
  }
 },
 "nbformat": 4,
 "nbformat_minor": 2
}
